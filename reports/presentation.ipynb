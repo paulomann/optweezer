{
 "cells": [
  {
   "cell_type": "code",
   "execution_count": 1,
   "metadata": {},
   "outputs": [],
   "source": [
    "import numpy as np\n",
    "#from keras import *\n",
    "#from keras.models import Sequential\n",
    "#from keras.layers import Dense, Conv2D\n",
    "#from keras.layers.noise import GaussianDropout\n",
    "#from keras.layers import Flatten, AveragePooling2D, UpSampling2D, Conv2D\n",
    "import matplotlib.pyplot as plt\n",
    "from sklearn.model_selection import train_test_split"
   ]
  },
  {
   "cell_type": "code",
   "execution_count": 2,
   "metadata": {},
   "outputs": [],
   "source": [
    "k_B = 1.38e-23 # Boltzmann cte. in J / K\n",
    "T = 300 # temperature in Kelvin\n",
    "dt = 1e-4\n",
    "max_time = 1\n",
    "x0 = 0.0\n",
    "gamma =  1.29926e-9\n",
    "\n",
    "n_t = 1000 #training sample size\n",
    "b_size = 100 #batch size do trainamento\n",
    "epocas = 5 #epocas de treinamento\n",
    "\n",
    "trace_size = int((max_time/dt)+1)  \n",
    "\n",
    "spread_min = 20\n",
    "spread_max = 40"
   ]
  },
  {
   "cell_type": "code",
   "execution_count": 3,
   "metadata": {},
   "outputs": [],
   "source": [
    "def linear_simulation(t_max, dt, initial_position, k_spring, gamma):\n",
    "    \"\"\"\n",
    "    Simulate the brownian movement of a overdamped system under linear force \n",
    "    through Euler-Maruyama method \n",
    "\n",
    "    Parameters\n",
    "    ----------\n",
    "    t_max            : final simulation time, such that t \\in (0, t_max)\n",
    "    dt               : time increment\n",
    "    initial_position : initial condition\n",
    "    k_spring         : spring constant\n",
    "    g                : damping constant\n",
    "\n",
    "    Returns\n",
    "    -------\n",
    "    save_times : array with time stamps\n",
    "    positions : array with simulated positions\n",
    "\n",
    "    \"\"\"\n",
    "    \n",
    "\n",
    "    N_time = int(t_max/dt)    \n",
    "    # Number of time stamps\n",
    "    t = np.linspace(0, t_max, N_time)                                                   # Array with time stamps\n",
    "    \n",
    "    positions = np.zeros(N_time)                                               # Array to store calculated positions\n",
    "    positions[0] = initial_position                                             # Define initial condition\n",
    "    \n",
    "    w = np.sqrt(2.0 * k_B * T * dt / gamma) * np.random.normal(size=N_time)       # Wiener increment\n",
    "    \n",
    "    for i in range(N_time-1):                                                    # Loop through each time stamp and calculate current position\n",
    "        positions[i+1] = positions[i] - (k_spring/gamma) * positions[i] * dt + w[i] # Euler-Maruyama method \n",
    "        \n",
    "    return positions"
   ]
  },
  {
   "cell_type": "code",
   "execution_count": 4,
   "metadata": {},
   "outputs": [],
   "source": [
    "def non_linear_simulation(t_max, dt, initial_position, k_spring, k_a, gamma):\n",
    "    \"\"\"\n",
    "    Simulate the brownian movement of a overdamped system under the influence of non-linearity\n",
    "    through Euler-Maruyama method \n",
    "\n",
    "    Parameters\n",
    "    ----------\n",
    "    t_max            : final simulation time, such that t \\in (0, t_max)\n",
    "    dt               : time increment\n",
    "    initial_position : initial condition\n",
    "    k_spring         : spring constant\n",
    "    g                : damping constant\n",
    "    k_a              : non-linear constant\n",
    "\n",
    "    Returns\n",
    "    -------\n",
    "    save_times : array with time stamps\n",
    "    positions : array with simulated positions\n",
    "\n",
    "    \"\"\"\n",
    "    \n",
    "    N_time = int(t_max/dt)                                                      # Number of time stamps\n",
    "    t = np.linspace(0, t_max, N_time)                                                   # Array with time stamps\n",
    "    \n",
    "    positions = np.zeros(N_time)                                               # Array to store calculated positions\n",
    "    positions[0] = initial_position                                             # Define initial condition\n",
    "    \n",
    "    w = np.sqrt(2.0 * k_B * T * dt / gamma) * np.random.normal(size=N_time)       # Wiener increment\n",
    "    \n",
    "    for i in range(N_time-1):                                                  # Loop through each time stamp and calculate current position\n",
    "        positions[i+1] = positions[i] - (k_spring/gamma)*positions[i]*dt - (k_a/gamma)*((positions[i])**3)*dt + w[i] # Euler-Maruyama method \n",
    "        \n",
    "    return positions"
   ]
  },
  {
   "cell_type": "code",
   "execution_count": 5,
   "metadata": {},
   "outputs": [
    {
     "data": {
      "text/plain": [
       "array([ 0.00000000e+00, -5.84416293e-08, -5.59067644e-08, ...,\n",
       "       -6.56315169e-07, -6.70643618e-07, -7.27243967e-07])"
      ]
     },
     "execution_count": 5,
     "metadata": {},
     "output_type": "execute_result"
    }
   ],
   "source": [
    "linear_simulation(max_time,dt,x0,20*gamma,gamma)"
   ]
  },
  {
   "cell_type": "code",
   "execution_count": 5,
   "metadata": {},
   "outputs": [],
   "source": [
    "def create_samples(num_samples):\n",
    "    \n",
    "    k_array = np.linspace(spread_min, spread_max, num=int(num_samples/2))\n",
    "    k_array = k_array * gamma\n",
    "    linear = np.array([np.append(linear_simulation(max_time,dt,x0,k,gamma), 0.0) for k in k_array])\n",
    "\n",
    "    non_linear = np.array([np.append(non_linear_simulation(max_time,dt,x0,k,k*0.5*1e14,gamma), 0.0) for k in k_array])\n",
    "    \n",
    "    max_value =  max(np.max(linear), np.max(non_linear))\n",
    "    linear = linear/max_value\n",
    "    non_linear = non_linear/max_value\n",
    "    linear[:,10000]=1.0\n",
    "    \n",
    "    linear = np.float32(linear)\n",
    "    non_linear = np.float32(non_linear)\n",
    "    \n",
    "    \n",
    "    samples = np.concatenate((linear,non_linear), axis=0)\n",
    "    np.random.shuffle(samples)\n",
    "    return samples"
   ]
  },
  {
   "cell_type": "code",
   "execution_count": 6,
   "metadata": {},
   "outputs": [],
   "source": [
    "samples = create_samples(100000)"
   ]
  },
  {
   "cell_type": "code",
   "execution_count": 11,
   "metadata": {},
   "outputs": [],
   "source": [
    "train = samples[:750]\n",
    "val = samples[750:875]\n",
    "test = samples[875:]\n",
    "\n",
    "np.save(\"train.npy\", train, allow_pickle=False)\n",
    "np.save(\"val.npy\", val, allow_pickle=False)\n",
    "np.save(\"test.npy\", test, allow_pickle=False)"
   ]
  },
  {
   "cell_type": "code",
   "execution_count": 248,
   "metadata": {},
   "outputs": [
    {
     "data": {
      "text/plain": [
       "(750, 10001)"
      ]
     },
     "execution_count": 248,
     "metadata": {},
     "output_type": "execute_result"
    }
   ],
   "source": [
    "np.shape(train)"
   ]
  },
  {
   "cell_type": "code",
   "execution_count": 153,
   "metadata": {},
   "outputs": [
    {
     "data": {
      "text/plain": [
       "array([ 0.00000000e+00,  1.42783380e-08,  9.83866907e-09, ...,\n",
       "       -2.63558633e-07, -2.50283556e-07,  0.00000000e+00])"
      ]
     },
     "execution_count": 153,
     "metadata": {},
     "output_type": "execute_result"
    }
   ],
   "source": [
    "teste[4]"
   ]
  },
  {
   "cell_type": "code",
   "execution_count": 221,
   "metadata": {},
   "outputs": [
    {
     "data": {
      "text/plain": [
       "(1, 10001)"
      ]
     },
     "execution_count": 221,
     "metadata": {},
     "output_type": "execute_result"
    }
   ],
   "source": [
    "np.shape(l)"
   ]
  },
  {
   "cell_type": "code",
   "execution_count": 224,
   "metadata": {},
   "outputs": [
    {
     "name": "stderr",
     "output_type": "stream",
     "text": [
      "<ipython-input-223-0faf72754248>:32: RuntimeWarning: overflow encountered in double_scalars\n",
      "  positions[i+1] = positions[i] - (k_spring/gamma) * positions[i] * dt + w[i] # Euler-Maruyama method\n",
      "<ipython-input-223-0faf72754248>:32: RuntimeWarning: invalid value encountered in double_scalars\n",
      "  positions[i+1] = positions[i] - (k_spring/gamma) * positions[i] * dt + w[i] # Euler-Maruyama method\n"
     ]
    },
    {
     "ename": "IndexError",
     "evalue": "index 10001 is out of bounds for axis 0 with size 10001",
     "output_type": "error",
     "traceback": [
      "\u001b[1;31m---------------------------------------------------------------------------\u001b[0m",
      "\u001b[1;31mIndexError\u001b[0m                                Traceback (most recent call last)",
      "\u001b[1;32m<ipython-input-224-9251a3691299>\u001b[0m in \u001b[0;36m<module>\u001b[1;34m\u001b[0m\n\u001b[1;32m----> 1\u001b[1;33m \u001b[0mlinear_simulation\u001b[0m\u001b[1;33m(\u001b[0m\u001b[0mmax_time\u001b[0m\u001b[1;33m,\u001b[0m\u001b[0mdt\u001b[0m\u001b[1;33m,\u001b[0m\u001b[0mx0\u001b[0m\u001b[1;33m,\u001b[0m\u001b[1;36m20\u001b[0m\u001b[1;33m,\u001b[0m\u001b[0mgamma\u001b[0m\u001b[1;33m)\u001b[0m\u001b[1;33m\u001b[0m\u001b[1;33m\u001b[0m\u001b[0m\n\u001b[0m",
      "\u001b[1;32m<ipython-input-223-0faf72754248>\u001b[0m in \u001b[0;36mlinear_simulation\u001b[1;34m(t_max, dt, initial_position, k_spring, gamma)\u001b[0m\n\u001b[0;32m     30\u001b[0m \u001b[1;33m\u001b[0m\u001b[0m\n\u001b[0;32m     31\u001b[0m     \u001b[1;32mfor\u001b[0m \u001b[0mi\u001b[0m \u001b[1;32min\u001b[0m \u001b[0mrange\u001b[0m\u001b[1;33m(\u001b[0m\u001b[0mN_time\u001b[0m\u001b[1;33m)\u001b[0m\u001b[1;33m:\u001b[0m                                                    \u001b[1;31m# Loop through each time stamp and calculate current position\u001b[0m\u001b[1;33m\u001b[0m\u001b[1;33m\u001b[0m\u001b[0m\n\u001b[1;32m---> 32\u001b[1;33m         \u001b[0mpositions\u001b[0m\u001b[1;33m[\u001b[0m\u001b[0mi\u001b[0m\u001b[1;33m+\u001b[0m\u001b[1;36m1\u001b[0m\u001b[1;33m]\u001b[0m \u001b[1;33m=\u001b[0m \u001b[0mpositions\u001b[0m\u001b[1;33m[\u001b[0m\u001b[0mi\u001b[0m\u001b[1;33m]\u001b[0m \u001b[1;33m-\u001b[0m \u001b[1;33m(\u001b[0m\u001b[0mk_spring\u001b[0m\u001b[1;33m/\u001b[0m\u001b[0mgamma\u001b[0m\u001b[1;33m)\u001b[0m \u001b[1;33m*\u001b[0m \u001b[0mpositions\u001b[0m\u001b[1;33m[\u001b[0m\u001b[0mi\u001b[0m\u001b[1;33m]\u001b[0m \u001b[1;33m*\u001b[0m \u001b[0mdt\u001b[0m \u001b[1;33m+\u001b[0m \u001b[0mw\u001b[0m\u001b[1;33m[\u001b[0m\u001b[0mi\u001b[0m\u001b[1;33m]\u001b[0m \u001b[1;31m# Euler-Maruyama method\u001b[0m\u001b[1;33m\u001b[0m\u001b[1;33m\u001b[0m\u001b[0m\n\u001b[0m\u001b[0;32m     33\u001b[0m \u001b[1;33m\u001b[0m\u001b[0m\n\u001b[0;32m     34\u001b[0m     \u001b[1;32mreturn\u001b[0m \u001b[0mpositions\u001b[0m\u001b[1;33m\u001b[0m\u001b[1;33m\u001b[0m\u001b[0m\n",
      "\u001b[1;31mIndexError\u001b[0m: index 10001 is out of bounds for axis 0 with size 10001"
     ]
    }
   ],
   "source": [
    "linear_simulation(max_time,dt,x0,20,gamma)"
   ]
  },
  {
   "cell_type": "code",
   "execution_count": null,
   "metadata": {},
   "outputs": [],
   "source": []
  },
  {
   "cell_type": "code",
   "execution_count": 6,
   "metadata": {},
   "outputs": [],
   "source": [
    "training_inputs = np.zeros([n_t,int((max_time/dt)+1)]) #matriz que guarda os exemplos de treinamento\n",
    "training_results = np.zeros([n_t,2]) #matriz que guarda o resultado que queremos para cada exemplo. Caso o exemplo seja linear a linha da matriz vale 1 0, caso seja não linear a linha vale 0 1"
   ]
  },
  {
   "cell_type": "code",
   "execution_count": 9,
   "metadata": {},
   "outputs": [
    {
     "data": {
      "text/plain": [
       "array([0.00000000e+00, 2.76675370e-08, 6.00784671e-08, ...,\n",
       "       2.33166284e-07, 2.01092619e-07, 2.30797685e-07])"
      ]
     },
     "execution_count": 9,
     "metadata": {},
     "output_type": "execute_result"
    }
   ],
   "source": [
    "spread_min = 20\n",
    "spread_max = 40\n",
    "\n",
    "k = np.random.uniform(spread_min*gamma,spread_max*gamma)\n",
    "linear_simulation(max_time,dt,x0,k,gamma)"
   ]
  },
  {
   "cell_type": "code",
   "execution_count": 21,
   "metadata": {},
   "outputs": [],
   "source": [
    "#criando a rede neural\n",
    "net = Sequential()\n",
    "net.add(Dense(int(trace_size/2), input_shape=(trace_size,), activation='relu'))\n",
    "net.add(Dense(int(trace_size/4), activation='relu'))\n",
    "net.add(Dense(2, activation='softmax'))\n",
    "net.compile(loss='categorical_crossentropy', optimizer=optimizers.SGD(lr=0.1), metrics=['categorical_accuracy'])"
   ]
  },
  {
   "cell_type": "code",
   "execution_count": 22,
   "metadata": {},
   "outputs": [
    {
     "name": "stdout",
     "output_type": "stream",
     "text": [
      "0\n",
      "Train on 900 samples, validate on 100 samples\n",
      "Epoch 1/5\n",
      "900/900 [==============================] - 9s 10ms/step - loss: 1.2672 - categorical_accuracy: 0.5500 - val_loss: 0.5636 - val_categorical_accuracy: 0.7000\n",
      "Epoch 2/5\n",
      "900/900 [==============================] - 7s 8ms/step - loss: 0.4395 - categorical_accuracy: 0.8689 - val_loss: 0.4956 - val_categorical_accuracy: 0.8000\n",
      "Epoch 3/5\n",
      "900/900 [==============================] - 7s 8ms/step - loss: 0.2758 - categorical_accuracy: 0.9678 - val_loss: 0.4386 - val_categorical_accuracy: 0.8300\n",
      "Epoch 4/5\n",
      "900/900 [==============================] - 7s 7ms/step - loss: 0.1744 - categorical_accuracy: 0.9867 - val_loss: 0.4795 - val_categorical_accuracy: 0.7800\n",
      "Epoch 5/5\n",
      "900/900 [==============================] - 7s 8ms/step - loss: 0.1093 - categorical_accuracy: 0.9967 - val_loss: 0.4390 - val_categorical_accuracy: 0.7900\n",
      "1\n",
      "Train on 900 samples, validate on 100 samples\n",
      "Epoch 1/5\n",
      "900/900 [==============================] - 7s 8ms/step - loss: 0.9423 - categorical_accuracy: 0.6633 - val_loss: 0.4946 - val_categorical_accuracy: 0.8300\n",
      "Epoch 2/5\n",
      "900/900 [==============================] - 7s 8ms/step - loss: 0.3026 - categorical_accuracy: 0.9222 - val_loss: 0.4532 - val_categorical_accuracy: 0.8700\n",
      "Epoch 3/5\n",
      "900/900 [==============================] - 7s 8ms/step - loss: 0.1771 - categorical_accuracy: 0.9811 - val_loss: 0.4431 - val_categorical_accuracy: 0.8600\n",
      "Epoch 4/5\n",
      "900/900 [==============================] - 7s 8ms/step - loss: 0.1057 - categorical_accuracy: 1.0000 - val_loss: 0.4302 - val_categorical_accuracy: 0.8500\n",
      "Epoch 5/5\n",
      "900/900 [==============================] - 7s 8ms/step - loss: 0.0670 - categorical_accuracy: 1.0000 - val_loss: 0.4371 - val_categorical_accuracy: 0.8400\n",
      "2\n",
      "Train on 900 samples, validate on 100 samples\n",
      "Epoch 1/5\n",
      "900/900 [==============================] - 8s 8ms/step - loss: 0.5703 - categorical_accuracy: 0.7389 - val_loss: 0.4553 - val_categorical_accuracy: 0.7900\n",
      "Epoch 2/5\n",
      "900/900 [==============================] - 7s 7ms/step - loss: 0.1880 - categorical_accuracy: 0.9456 - val_loss: 0.4392 - val_categorical_accuracy: 0.8400\n",
      "Epoch 3/5\n",
      "900/900 [==============================] - 7s 7ms/step - loss: 0.0876 - categorical_accuracy: 0.9956 - val_loss: 0.3974 - val_categorical_accuracy: 0.8200\n",
      "Epoch 4/5\n",
      "900/900 [==============================] - 7s 7ms/step - loss: 0.0502 - categorical_accuracy: 1.0000 - val_loss: 0.4238 - val_categorical_accuracy: 0.8000\n",
      "Epoch 5/5\n",
      "900/900 [==============================] - 7s 8ms/step - loss: 0.0337 - categorical_accuracy: 1.0000 - val_loss: 0.4260 - val_categorical_accuracy: 0.7900\n",
      "3\n",
      "Train on 900 samples, validate on 100 samples\n",
      "Epoch 1/5\n",
      "900/900 [==============================] - 7s 8ms/step - loss: 0.6338 - categorical_accuracy: 0.7533 - val_loss: 0.3446 - val_categorical_accuracy: 0.8200\n",
      "Epoch 2/5\n",
      "900/900 [==============================] - 8s 9ms/step - loss: 0.1827 - categorical_accuracy: 0.9489 - val_loss: 0.3147 - val_categorical_accuracy: 0.8500\n",
      "Epoch 3/5\n",
      "900/900 [==============================] - 10s 11ms/step - loss: 0.0800 - categorical_accuracy: 0.9944 - val_loss: 0.3136 - val_categorical_accuracy: 0.8600\n",
      "Epoch 4/5\n",
      "900/900 [==============================] - 11s 12ms/step - loss: 0.0448 - categorical_accuracy: 1.0000 - val_loss: 0.3043 - val_categorical_accuracy: 0.8500\n",
      "Epoch 5/5\n",
      "900/900 [==============================] - 11s 12ms/step - loss: 0.0300 - categorical_accuracy: 1.0000 - val_loss: 0.3167 - val_categorical_accuracy: 0.8600\n",
      "4\n",
      "Train on 900 samples, validate on 100 samples\n",
      "Epoch 1/5\n",
      "900/900 [==============================] - 11s 12ms/step - loss: 0.5888 - categorical_accuracy: 0.7600 - val_loss: 0.3128 - val_categorical_accuracy: 0.8800\n",
      "Epoch 2/5\n",
      "900/900 [==============================] - 15s 16ms/step - loss: 0.1718 - categorical_accuracy: 0.9533 - val_loss: 0.3182 - val_categorical_accuracy: 0.8900\n",
      "Epoch 3/5\n",
      "900/900 [==============================] - 13s 14ms/step - loss: 0.0778 - categorical_accuracy: 0.9978 - val_loss: 0.2973 - val_categorical_accuracy: 0.9200\n",
      "Epoch 4/5\n",
      "900/900 [==============================] - 12s 13ms/step - loss: 0.0435 - categorical_accuracy: 1.0000 - val_loss: 0.2842 - val_categorical_accuracy: 0.9200\n",
      "Epoch 5/5\n",
      "900/900 [==============================] - 16s 17ms/step - loss: 0.0292 - categorical_accuracy: 1.0000 - val_loss: 0.2881 - val_categorical_accuracy: 0.9000\n",
      "5\n",
      "Train on 900 samples, validate on 100 samples\n",
      "Epoch 1/5\n",
      "900/900 [==============================] - 7s 8ms/step - loss: 0.5555 - categorical_accuracy: 0.7867 - val_loss: 0.3230 - val_categorical_accuracy: 0.8400\n",
      "Epoch 2/5\n",
      "900/900 [==============================] - 7s 7ms/step - loss: 0.1608 - categorical_accuracy: 0.9556 - val_loss: 0.2895 - val_categorical_accuracy: 0.8800\n",
      "Epoch 3/5\n",
      "900/900 [==============================] - 7s 8ms/step - loss: 0.0627 - categorical_accuracy: 1.0000 - val_loss: 0.2905 - val_categorical_accuracy: 0.8600\n",
      "Epoch 4/5\n",
      "900/900 [==============================] - 7s 7ms/step - loss: 0.0347 - categorical_accuracy: 1.0000 - val_loss: 0.2968 - val_categorical_accuracy: 0.8700\n",
      "Epoch 5/5\n",
      "900/900 [==============================] - 8s 9ms/step - loss: 0.0246 - categorical_accuracy: 1.0000 - val_loss: 0.3046 - val_categorical_accuracy: 0.8600\n",
      "6\n",
      "Train on 900 samples, validate on 100 samples\n",
      "Epoch 1/5\n",
      "900/900 [==============================] - 9s 10ms/step - loss: 0.4010 - categorical_accuracy: 0.8478 - val_loss: 0.4535 - val_categorical_accuracy: 0.8000\n",
      "Epoch 2/5\n",
      "900/900 [==============================] - 8s 9ms/step - loss: 0.1109 - categorical_accuracy: 0.9733 - val_loss: 0.4127 - val_categorical_accuracy: 0.8100\n",
      "Epoch 3/5\n",
      "900/900 [==============================] - 8s 9ms/step - loss: 0.0477 - categorical_accuracy: 0.9967 - val_loss: 0.4316 - val_categorical_accuracy: 0.8700\n",
      "Epoch 4/5\n",
      "900/900 [==============================] - 8s 9ms/step - loss: 0.0255 - categorical_accuracy: 0.9989 - val_loss: 0.4413 - val_categorical_accuracy: 0.8700\n",
      "Epoch 5/5\n",
      "900/900 [==============================] - 8s 9ms/step - loss: 0.0177 - categorical_accuracy: 1.0000 - val_loss: 0.4504 - val_categorical_accuracy: 0.8700\n",
      "7\n",
      "Train on 900 samples, validate on 100 samples\n",
      "Epoch 1/5\n",
      "900/900 [==============================] - 8s 8ms/step - loss: 0.5685 - categorical_accuracy: 0.7911 - val_loss: 0.5473 - val_categorical_accuracy: 0.8000\n",
      "Epoch 2/5\n",
      "900/900 [==============================] - 8s 8ms/step - loss: 0.1340 - categorical_accuracy: 0.9656 - val_loss: 0.4107 - val_categorical_accuracy: 0.8200\n",
      "Epoch 3/5\n",
      "900/900 [==============================] - 8s 8ms/step - loss: 0.0524 - categorical_accuracy: 0.9956 - val_loss: 0.3767 - val_categorical_accuracy: 0.8600\n",
      "Epoch 4/5\n",
      "900/900 [==============================] - 8s 9ms/step - loss: 0.0285 - categorical_accuracy: 1.0000 - val_loss: 0.3861 - val_categorical_accuracy: 0.8400\n",
      "Epoch 5/5\n",
      "900/900 [==============================] - 9s 10ms/step - loss: 0.0198 - categorical_accuracy: 1.0000 - val_loss: 0.4006 - val_categorical_accuracy: 0.8400\n",
      "8\n",
      "Train on 900 samples, validate on 100 samples\n",
      "Epoch 1/5\n",
      "900/900 [==============================] - 7s 7ms/step - loss: 0.4607 - categorical_accuracy: 0.8344 - val_loss: 0.4475 - val_categorical_accuracy: 0.7800\n",
      "Epoch 2/5\n",
      "900/900 [==============================] - 7s 7ms/step - loss: 0.1754 - categorical_accuracy: 0.9389 - val_loss: 0.3056 - val_categorical_accuracy: 0.8600\n",
      "Epoch 3/5\n",
      "900/900 [==============================] - 7s 8ms/step - loss: 0.0567 - categorical_accuracy: 0.9956 - val_loss: 0.3150 - val_categorical_accuracy: 0.8700\n",
      "Epoch 4/5\n",
      "900/900 [==============================] - 7s 8ms/step - loss: 0.0317 - categorical_accuracy: 1.0000 - val_loss: 0.3255 - val_categorical_accuracy: 0.8600\n",
      "Epoch 5/5\n",
      "900/900 [==============================] - 7s 7ms/step - loss: 0.0216 - categorical_accuracy: 1.0000 - val_loss: 0.3375 - val_categorical_accuracy: 0.8500\n",
      "9\n",
      "Train on 900 samples, validate on 100 samples\n",
      "Epoch 1/5\n",
      "900/900 [==============================] - 9s 9ms/step - loss: 0.4716 - categorical_accuracy: 0.8189 - val_loss: 0.6264 - val_categorical_accuracy: 0.7700\n",
      "Epoch 2/5\n",
      "900/900 [==============================] - 7s 8ms/step - loss: 0.1761 - categorical_accuracy: 0.9344 - val_loss: 0.3067 - val_categorical_accuracy: 0.8700\n",
      "Epoch 3/5\n",
      "900/900 [==============================] - 8s 9ms/step - loss: 0.0463 - categorical_accuracy: 0.9978 - val_loss: 0.3102 - val_categorical_accuracy: 0.8600\n",
      "Epoch 4/5\n",
      "900/900 [==============================] - 7s 8ms/step - loss: 0.0248 - categorical_accuracy: 1.0000 - val_loss: 0.3113 - val_categorical_accuracy: 0.8700\n",
      "Epoch 5/5\n",
      "900/900 [==============================] - 8s 9ms/step - loss: 0.0176 - categorical_accuracy: 1.0000 - val_loss: 0.3204 - val_categorical_accuracy: 0.8700\n",
      "10\n",
      "Train on 900 samples, validate on 100 samples\n",
      "Epoch 1/5\n",
      "900/900 [==============================] - 10s 11ms/step - loss: 0.4364 - categorical_accuracy: 0.8311 - val_loss: 0.3456 - val_categorical_accuracy: 0.8200\n",
      "Epoch 2/5\n",
      "900/900 [==============================] - 8s 9ms/step - loss: 0.1073 - categorical_accuracy: 0.9711 - val_loss: 0.3375 - val_categorical_accuracy: 0.8400\n",
      "Epoch 3/5\n",
      "900/900 [==============================] - 7s 8ms/step - loss: 0.0365 - categorical_accuracy: 1.0000 - val_loss: 0.3394 - val_categorical_accuracy: 0.8600\n",
      "Epoch 4/5\n",
      "900/900 [==============================] - 10s 11ms/step - loss: 0.0217 - categorical_accuracy: 1.0000 - val_loss: 0.3479 - val_categorical_accuracy: 0.8600\n",
      "Epoch 5/5\n",
      "900/900 [==============================] - 9s 10ms/step - loss: 0.0159 - categorical_accuracy: 1.0000 - val_loss: 0.3533 - val_categorical_accuracy: 0.8700\n",
      "11\n",
      "Train on 900 samples, validate on 100 samples\n",
      "Epoch 1/5\n",
      "900/900 [==============================] - 7s 8ms/step - loss: 0.4208 - categorical_accuracy: 0.8433 - val_loss: 0.3819 - val_categorical_accuracy: 0.8400\n",
      "Epoch 2/5\n",
      "900/900 [==============================] - 7s 8ms/step - loss: 0.1040 - categorical_accuracy: 0.9767 - val_loss: 0.3905 - val_categorical_accuracy: 0.8500\n",
      "Epoch 3/5\n",
      "900/900 [==============================] - 8s 9ms/step - loss: 0.0380 - categorical_accuracy: 0.9978 - val_loss: 0.3595 - val_categorical_accuracy: 0.8700\n",
      "Epoch 4/5\n",
      "900/900 [==============================] - 8s 9ms/step - loss: 0.0209 - categorical_accuracy: 1.0000 - val_loss: 0.3638 - val_categorical_accuracy: 0.8800\n",
      "Epoch 5/5\n",
      "900/900 [==============================] - 8s 9ms/step - loss: 0.0153 - categorical_accuracy: 1.0000 - val_loss: 0.3676 - val_categorical_accuracy: 0.8800\n",
      "12\n",
      "Train on 900 samples, validate on 100 samples\n",
      "Epoch 1/5\n",
      "900/900 [==============================] - 8s 9ms/step - loss: 0.4643 - categorical_accuracy: 0.8411 - val_loss: 0.6349 - val_categorical_accuracy: 0.7700\n",
      "Epoch 2/5\n",
      "900/900 [==============================] - 8s 9ms/step - loss: 0.1245 - categorical_accuracy: 0.9589 - val_loss: 0.5527 - val_categorical_accuracy: 0.8100\n",
      "Epoch 3/5\n",
      "900/900 [==============================] - 9s 10ms/step - loss: 0.0397 - categorical_accuracy: 0.9989 - val_loss: 0.4991 - val_categorical_accuracy: 0.8300\n",
      "Epoch 4/5\n",
      "900/900 [==============================] - 7s 8ms/step - loss: 0.0209 - categorical_accuracy: 1.0000 - val_loss: 0.5220 - val_categorical_accuracy: 0.8300\n",
      "Epoch 5/5\n",
      "900/900 [==============================] - 7s 8ms/step - loss: 0.0152 - categorical_accuracy: 1.0000 - val_loss: 0.5123 - val_categorical_accuracy: 0.8300\n",
      "13\n",
      "Train on 900 samples, validate on 100 samples\n",
      "Epoch 1/5\n",
      "900/900 [==============================] - 8s 9ms/step - loss: 0.5435 - categorical_accuracy: 0.8056 - val_loss: 0.3216 - val_categorical_accuracy: 0.8400\n",
      "Epoch 2/5\n",
      "900/900 [==============================] - 8s 8ms/step - loss: 0.1083 - categorical_accuracy: 0.9744 - val_loss: 0.2922 - val_categorical_accuracy: 0.8700\n",
      "Epoch 3/5\n",
      "900/900 [==============================] - 7s 8ms/step - loss: 0.0413 - categorical_accuracy: 0.9967 - val_loss: 0.2967 - val_categorical_accuracy: 0.8700\n",
      "Epoch 4/5\n",
      "900/900 [==============================] - 7s 8ms/step - loss: 0.0239 - categorical_accuracy: 1.0000 - val_loss: 0.3122 - val_categorical_accuracy: 0.8700\n",
      "Epoch 5/5\n",
      "900/900 [==============================] - 8s 9ms/step - loss: 0.0170 - categorical_accuracy: 1.0000 - val_loss: 0.3145 - val_categorical_accuracy: 0.8800\n",
      "14\n",
      "Train on 900 samples, validate on 100 samples\n",
      "Epoch 1/5\n",
      "900/900 [==============================] - 8s 8ms/step - loss: 0.5161 - categorical_accuracy: 0.8211 - val_loss: 0.3434 - val_categorical_accuracy: 0.8700\n",
      "Epoch 2/5\n",
      "900/900 [==============================] - 7s 8ms/step - loss: 0.1207 - categorical_accuracy: 0.9622 - val_loss: 0.3422 - val_categorical_accuracy: 0.8900\n",
      "Epoch 3/5\n",
      "900/900 [==============================] - 8s 9ms/step - loss: 0.0448 - categorical_accuracy: 0.9989 - val_loss: 0.3273 - val_categorical_accuracy: 0.8800\n",
      "Epoch 4/5\n",
      "900/900 [==============================] - 8s 9ms/step - loss: 0.0264 - categorical_accuracy: 1.0000 - val_loss: 0.3460 - val_categorical_accuracy: 0.8900\n",
      "Epoch 5/5\n",
      "900/900 [==============================] - 7s 8ms/step - loss: 0.0191 - categorical_accuracy: 1.0000 - val_loss: 0.3509 - val_categorical_accuracy: 0.8900\n",
      "15\n",
      "Train on 900 samples, validate on 100 samples\n",
      "Epoch 1/5\n",
      "900/900 [==============================] - 7s 8ms/step - loss: 0.3819 - categorical_accuracy: 0.8422 - val_loss: 0.5463 - val_categorical_accuracy: 0.7900\n",
      "Epoch 2/5\n",
      "900/900 [==============================] - 7s 8ms/step - loss: 0.0953 - categorical_accuracy: 0.9756 - val_loss: 0.3387 - val_categorical_accuracy: 0.8800\n",
      "Epoch 3/5\n",
      "900/900 [==============================] - 8s 9ms/step - loss: 0.0325 - categorical_accuracy: 0.9989 - val_loss: 0.3324 - val_categorical_accuracy: 0.8700\n",
      "Epoch 4/5\n",
      "900/900 [==============================] - 7s 8ms/step - loss: 0.0201 - categorical_accuracy: 1.0000 - val_loss: 0.3388 - val_categorical_accuracy: 0.8900\n",
      "Epoch 5/5\n",
      "900/900 [==============================] - 8s 8ms/step - loss: 0.0147 - categorical_accuracy: 1.0000 - val_loss: 0.3450 - val_categorical_accuracy: 0.8900\n",
      "16\n",
      "Train on 900 samples, validate on 100 samples\n",
      "Epoch 1/5\n",
      "900/900 [==============================] - 7s 8ms/step - loss: 0.4356 - categorical_accuracy: 0.8467 - val_loss: 0.2574 - val_categorical_accuracy: 0.9100\n",
      "Epoch 2/5\n",
      "900/900 [==============================] - 8s 8ms/step - loss: 0.0857 - categorical_accuracy: 0.9756 - val_loss: 0.2159 - val_categorical_accuracy: 0.9200\n",
      "Epoch 3/5\n",
      "900/900 [==============================] - 7s 8ms/step - loss: 0.0318 - categorical_accuracy: 1.0000 - val_loss: 0.2202 - val_categorical_accuracy: 0.9100\n",
      "Epoch 4/5\n",
      "900/900 [==============================] - 7s 8ms/step - loss: 0.0196 - categorical_accuracy: 1.0000 - val_loss: 0.2283 - val_categorical_accuracy: 0.9200\n",
      "Epoch 5/5\n",
      "900/900 [==============================] - 8s 9ms/step - loss: 0.0143 - categorical_accuracy: 1.0000 - val_loss: 0.2372 - val_categorical_accuracy: 0.9100\n",
      "17\n",
      "Train on 900 samples, validate on 100 samples\n",
      "Epoch 1/5\n",
      "900/900 [==============================] - 8s 9ms/step - loss: 0.5997 - categorical_accuracy: 0.7900 - val_loss: 0.2507 - val_categorical_accuracy: 0.8900\n",
      "Epoch 2/5\n",
      "900/900 [==============================] - 8s 9ms/step - loss: 0.1248 - categorical_accuracy: 0.9622 - val_loss: 0.2658 - val_categorical_accuracy: 0.8900\n",
      "Epoch 3/5\n",
      "900/900 [==============================] - 8s 9ms/step - loss: 0.0433 - categorical_accuracy: 1.0000 - val_loss: 0.2828 - val_categorical_accuracy: 0.8800\n",
      "Epoch 4/5\n",
      "900/900 [==============================] - 10s 11ms/step - loss: 0.0255 - categorical_accuracy: 1.0000 - val_loss: 0.2801 - val_categorical_accuracy: 0.8700\n",
      "Epoch 5/5\n",
      "900/900 [==============================] - 9s 10ms/step - loss: 0.0181 - categorical_accuracy: 1.0000 - val_loss: 0.2772 - val_categorical_accuracy: 0.8700\n",
      "18\n",
      "Train on 900 samples, validate on 100 samples\n",
      "Epoch 1/5\n",
      "900/900 [==============================] - 7s 8ms/step - loss: 0.4036 - categorical_accuracy: 0.8389 - val_loss: 0.4651 - val_categorical_accuracy: 0.8300\n",
      "Epoch 2/5\n",
      "900/900 [==============================] - 7s 8ms/step - loss: 0.0882 - categorical_accuracy: 0.9844 - val_loss: 0.4915 - val_categorical_accuracy: 0.8400\n",
      "Epoch 3/5\n",
      "900/900 [==============================] - 7s 7ms/step - loss: 0.0335 - categorical_accuracy: 0.9989 - val_loss: 0.5008 - val_categorical_accuracy: 0.8400\n"
     ]
    },
    {
     "name": "stdout",
     "output_type": "stream",
     "text": [
      "Epoch 4/5\n",
      "900/900 [==============================] - 8s 9ms/step - loss: 0.0205 - categorical_accuracy: 1.0000 - val_loss: 0.5176 - val_categorical_accuracy: 0.8400\n",
      "Epoch 5/5\n",
      "900/900 [==============================] - 9s 10ms/step - loss: 0.0150 - categorical_accuracy: 1.0000 - val_loss: 0.5350 - val_categorical_accuracy: 0.8400\n",
      "19\n",
      "Train on 900 samples, validate on 100 samples\n",
      "Epoch 1/5\n",
      "900/900 [==============================] - 7s 8ms/step - loss: 0.4396 - categorical_accuracy: 0.8378 - val_loss: 0.3409 - val_categorical_accuracy: 0.8500\n",
      "Epoch 2/5\n",
      "900/900 [==============================] - 7s 8ms/step - loss: 0.1040 - categorical_accuracy: 0.9633 - val_loss: 0.3729 - val_categorical_accuracy: 0.8300\n",
      "Epoch 3/5\n",
      "900/900 [==============================] - 7s 8ms/step - loss: 0.0343 - categorical_accuracy: 0.9978 - val_loss: 0.3538 - val_categorical_accuracy: 0.8400\n",
      "Epoch 4/5\n",
      "900/900 [==============================] - 8s 8ms/step - loss: 0.0192 - categorical_accuracy: 1.0000 - val_loss: 0.3539 - val_categorical_accuracy: 0.8500\n",
      "Epoch 5/5\n",
      "900/900 [==============================] - 8s 9ms/step - loss: 0.0142 - categorical_accuracy: 1.0000 - val_loss: 0.3600 - val_categorical_accuracy: 0.8500\n",
      "20\n",
      "Train on 900 samples, validate on 100 samples\n",
      "Epoch 1/5\n",
      "900/900 [==============================] - 8s 9ms/step - loss: 0.6155 - categorical_accuracy: 0.7822 - val_loss: 0.3891 - val_categorical_accuracy: 0.8200\n",
      "Epoch 2/5\n",
      "900/900 [==============================] - 7s 8ms/step - loss: 0.1362 - categorical_accuracy: 0.9633 - val_loss: 0.3119 - val_categorical_accuracy: 0.8500\n",
      "Epoch 3/5\n",
      "900/900 [==============================] - 7s 8ms/step - loss: 0.0509 - categorical_accuracy: 0.9967 - val_loss: 0.3197 - val_categorical_accuracy: 0.8900\n",
      "Epoch 4/5\n",
      "900/900 [==============================] - 7s 8ms/step - loss: 0.0295 - categorical_accuracy: 0.9989 - val_loss: 0.3335 - val_categorical_accuracy: 0.8800\n",
      "Epoch 5/5\n",
      "900/900 [==============================] - 8s 9ms/step - loss: 0.0205 - categorical_accuracy: 1.0000 - val_loss: 0.3343 - val_categorical_accuracy: 0.8900\n",
      "21\n",
      "Train on 900 samples, validate on 100 samples\n",
      "Epoch 1/5\n",
      "900/900 [==============================] - 7s 8ms/step - loss: 0.4179 - categorical_accuracy: 0.8389 - val_loss: 0.4680 - val_categorical_accuracy: 0.8200\n",
      "Epoch 2/5\n",
      "900/900 [==============================] - 7s 8ms/step - loss: 0.0992 - categorical_accuracy: 0.9789 - val_loss: 0.3891 - val_categorical_accuracy: 0.8500\n",
      "Epoch 3/5\n",
      "900/900 [==============================] - 7s 8ms/step - loss: 0.0375 - categorical_accuracy: 1.0000 - val_loss: 0.3998 - val_categorical_accuracy: 0.8400\n",
      "Epoch 4/5\n",
      "900/900 [==============================] - 7s 8ms/step - loss: 0.0217 - categorical_accuracy: 1.0000 - val_loss: 0.4092 - val_categorical_accuracy: 0.8500\n",
      "Epoch 5/5\n",
      "900/900 [==============================] - 7s 8ms/step - loss: 0.0158 - categorical_accuracy: 1.0000 - val_loss: 0.4215 - val_categorical_accuracy: 0.8500\n",
      "22\n",
      "Train on 900 samples, validate on 100 samples\n",
      "Epoch 1/5\n",
      "900/900 [==============================] - 9s 10ms/step - loss: 0.5492 - categorical_accuracy: 0.8078 - val_loss: 0.4308 - val_categorical_accuracy: 0.8200\n",
      "Epoch 2/5\n",
      "900/900 [==============================] - 8s 9ms/step - loss: 0.1204 - categorical_accuracy: 0.9622 - val_loss: 0.3727 - val_categorical_accuracy: 0.8600\n",
      "Epoch 3/5\n",
      "900/900 [==============================] - 8s 9ms/step - loss: 0.0466 - categorical_accuracy: 0.9956 - val_loss: 0.4054 - val_categorical_accuracy: 0.8700\n",
      "Epoch 4/5\n",
      "900/900 [==============================] - 8s 8ms/step - loss: 0.0260 - categorical_accuracy: 1.0000 - val_loss: 0.4247 - val_categorical_accuracy: 0.8600\n",
      "Epoch 5/5\n",
      "900/900 [==============================] - 7s 8ms/step - loss: 0.0185 - categorical_accuracy: 1.0000 - val_loss: 0.4314 - val_categorical_accuracy: 0.8400\n",
      "23\n",
      "Train on 900 samples, validate on 100 samples\n",
      "Epoch 1/5\n",
      "900/900 [==============================] - 8s 9ms/step - loss: 0.3980 - categorical_accuracy: 0.8500 - val_loss: 0.4666 - val_categorical_accuracy: 0.8100\n",
      "Epoch 2/5\n",
      "900/900 [==============================] - 8s 9ms/step - loss: 0.0882 - categorical_accuracy: 0.9800 - val_loss: 0.4837 - val_categorical_accuracy: 0.8000\n",
      "Epoch 3/5\n",
      "900/900 [==============================] - 7s 8ms/step - loss: 0.0373 - categorical_accuracy: 0.9978 - val_loss: 0.4515 - val_categorical_accuracy: 0.8100\n",
      "Epoch 4/5\n",
      "900/900 [==============================] - 8s 9ms/step - loss: 0.0226 - categorical_accuracy: 1.0000 - val_loss: 0.4638 - val_categorical_accuracy: 0.8100\n",
      "Epoch 5/5\n",
      "900/900 [==============================] - 8s 9ms/step - loss: 0.0163 - categorical_accuracy: 1.0000 - val_loss: 0.4709 - val_categorical_accuracy: 0.8100\n",
      "24\n",
      "Train on 900 samples, validate on 100 samples\n",
      "Epoch 1/5\n",
      "900/900 [==============================] - 7s 8ms/step - loss: 0.4535 - categorical_accuracy: 0.8289 - val_loss: 0.3189 - val_categorical_accuracy: 0.8900\n",
      "Epoch 2/5\n",
      "900/900 [==============================] - 8s 9ms/step - loss: 0.1024 - categorical_accuracy: 0.9656 - val_loss: 0.2988 - val_categorical_accuracy: 0.9000\n",
      "Epoch 3/5\n",
      "900/900 [==============================] - 7s 8ms/step - loss: 0.0369 - categorical_accuracy: 0.9989 - val_loss: 0.2933 - val_categorical_accuracy: 0.8800\n",
      "Epoch 4/5\n",
      "900/900 [==============================] - 7s 8ms/step - loss: 0.0213 - categorical_accuracy: 1.0000 - val_loss: 0.2830 - val_categorical_accuracy: 0.8800\n",
      "Epoch 5/5\n",
      "900/900 [==============================] - 7s 8ms/step - loss: 0.0154 - categorical_accuracy: 1.0000 - val_loss: 0.2902 - val_categorical_accuracy: 0.8800\n",
      "25\n",
      "Train on 900 samples, validate on 100 samples\n",
      "Epoch 1/5\n",
      "900/900 [==============================] - 11s 12ms/step - loss: 0.3874 - categorical_accuracy: 0.8556 - val_loss: 0.4552 - val_categorical_accuracy: 0.8000\n",
      "Epoch 2/5\n",
      "900/900 [==============================] - 9s 10ms/step - loss: 0.0891 - categorical_accuracy: 0.9811 - val_loss: 0.4544 - val_categorical_accuracy: 0.7900\n",
      "Epoch 3/5\n",
      "900/900 [==============================] - 9s 10ms/step - loss: 0.0311 - categorical_accuracy: 1.0000 - val_loss: 0.4782 - val_categorical_accuracy: 0.7900\n",
      "Epoch 4/5\n",
      "900/900 [==============================] - 9s 10ms/step - loss: 0.0190 - categorical_accuracy: 1.0000 - val_loss: 0.4882 - val_categorical_accuracy: 0.7800\n",
      "Epoch 5/5\n",
      "900/900 [==============================] - 8s 9ms/step - loss: 0.0140 - categorical_accuracy: 1.0000 - val_loss: 0.5006 - val_categorical_accuracy: 0.7800\n",
      "26\n",
      "Train on 900 samples, validate on 100 samples\n",
      "Epoch 1/5\n",
      "900/900 [==============================] - 7s 7ms/step - loss: 0.4292 - categorical_accuracy: 0.8444 - val_loss: 0.3596 - val_categorical_accuracy: 0.8200\n",
      "Epoch 2/5\n",
      "900/900 [==============================] - 7s 8ms/step - loss: 0.0919 - categorical_accuracy: 0.9800 - val_loss: 0.2880 - val_categorical_accuracy: 0.8800\n",
      "Epoch 3/5\n",
      "900/900 [==============================] - 7s 8ms/step - loss: 0.0309 - categorical_accuracy: 0.9989 - val_loss: 0.2625 - val_categorical_accuracy: 0.8700\n",
      "Epoch 4/5\n",
      "900/900 [==============================] - 7s 8ms/step - loss: 0.0175 - categorical_accuracy: 1.0000 - val_loss: 0.2654 - val_categorical_accuracy: 0.8800\n",
      "Epoch 5/5\n",
      "900/900 [==============================] - 7s 8ms/step - loss: 0.0131 - categorical_accuracy: 1.0000 - val_loss: 0.2583 - val_categorical_accuracy: 0.8800\n",
      "27\n",
      "Train on 900 samples, validate on 100 samples\n",
      "Epoch 1/5\n",
      "900/900 [==============================] - 7s 7ms/step - loss: 0.4498 - categorical_accuracy: 0.8222 - val_loss: 0.5286 - val_categorical_accuracy: 0.7900\n",
      "Epoch 2/5\n",
      "900/900 [==============================] - 7s 7ms/step - loss: 0.1057 - categorical_accuracy: 0.9689 - val_loss: 0.4566 - val_categorical_accuracy: 0.8000\n",
      "Epoch 3/5\n",
      "900/900 [==============================] - 8s 9ms/step - loss: 0.0309 - categorical_accuracy: 0.9989 - val_loss: 0.4989 - val_categorical_accuracy: 0.8100\n",
      "Epoch 4/5\n",
      "900/900 [==============================] - 7s 7ms/step - loss: 0.0181 - categorical_accuracy: 1.0000 - val_loss: 0.5102 - val_categorical_accuracy: 0.8000\n",
      "Epoch 5/5\n",
      "900/900 [==============================] - 7s 7ms/step - loss: 0.0130 - categorical_accuracy: 1.0000 - val_loss: 0.5226 - val_categorical_accuracy: 0.7900\n"
     ]
    },
    {
     "name": "stdout",
     "output_type": "stream",
     "text": [
      "28\n",
      "Train on 900 samples, validate on 100 samples\n",
      "Epoch 1/5\n",
      "900/900 [==============================] - 7s 7ms/step - loss: 0.5013 - categorical_accuracy: 0.8267 - val_loss: 0.2711 - val_categorical_accuracy: 0.8900\n",
      "Epoch 2/5\n",
      "900/900 [==============================] - 7s 7ms/step - loss: 0.1060 - categorical_accuracy: 0.9678 - val_loss: 0.2569 - val_categorical_accuracy: 0.8700\n",
      "Epoch 3/5\n",
      "900/900 [==============================] - 7s 8ms/step - loss: 0.0409 - categorical_accuracy: 0.9967 - val_loss: 0.2433 - val_categorical_accuracy: 0.8800\n",
      "Epoch 4/5\n",
      "900/900 [==============================] - 7s 7ms/step - loss: 0.0228 - categorical_accuracy: 1.0000 - val_loss: 0.2441 - val_categorical_accuracy: 0.8800\n",
      "Epoch 5/5\n",
      "900/900 [==============================] - 7s 7ms/step - loss: 0.0164 - categorical_accuracy: 1.0000 - val_loss: 0.2542 - val_categorical_accuracy: 0.8800\n",
      "29\n",
      "Train on 900 samples, validate on 100 samples\n",
      "Epoch 1/5\n",
      "900/900 [==============================] - 7s 8ms/step - loss: 0.3304 - categorical_accuracy: 0.8789 - val_loss: 0.2616 - val_categorical_accuracy: 0.9100\n",
      "Epoch 2/5\n",
      "900/900 [==============================] - 7s 7ms/step - loss: 0.0660 - categorical_accuracy: 0.9878 - val_loss: 0.2534 - val_categorical_accuracy: 0.9000\n",
      "Epoch 3/5\n",
      "900/900 [==============================] - 7s 7ms/step - loss: 0.0233 - categorical_accuracy: 1.0000 - val_loss: 0.2552 - val_categorical_accuracy: 0.9000\n",
      "Epoch 4/5\n",
      "900/900 [==============================] - 7s 7ms/step - loss: 0.0147 - categorical_accuracy: 1.0000 - val_loss: 0.2652 - val_categorical_accuracy: 0.9000\n",
      "Epoch 5/5\n",
      "900/900 [==============================] - 7s 7ms/step - loss: 0.0111 - categorical_accuracy: 1.0000 - val_loss: 0.2658 - val_categorical_accuracy: 0.9100\n"
     ]
    }
   ],
   "source": [
    "val_per = np.zeros(30)\n",
    "\n",
    "for on in range(30):\n",
    "    print(on)\n",
    "    spread_min = 20\n",
    "    spread_max = 40\n",
    "    \n",
    "    for i in range(n_t):\n",
    "        \n",
    "        sorteio_tipo  = np.random.randint(0,2)      #se 0 vai gerar linear, se 1 vai gerar não-linear\n",
    "        if sorteio_tipo == 0:\n",
    "            k = np.random.uniform(spread_min*gamma,spread_max*gamma)\n",
    "            training_inputs[i,:] = linear_simulation(max_time,dt,x0,k,gamma)\n",
    "            training_inputs[i,:] = training_inputs[i,:]/np.max(training_inputs[i,:]) #essa linha normaliza o traço, mas não sei se isso é necessário\n",
    "            training_results[i][0] = 1\n",
    "            training_results[i][1] = 0 \n",
    "        else:\n",
    "            k = np.random.uniform(spread_min*gamma,spread_max*gamma)\n",
    "            ka = np.random.uniform(0,k*0.5*1e14)\n",
    "            training_inputs[i,:] = non_linear_simulation(max_time,dt,x0,k,ka,gamma)\n",
    "            training_inputs[i,:] = training_inputs[i,:]/np.max(training_inputs[i,:]) #essa linha normaliza o traço, mas não sei se isso é necessário\n",
    "            training_results[i][0] = 0\n",
    "            training_results[i][1] = 1 \n",
    "            \n",
    "    net.fit(training_inputs,training_results,batch_size=b_size, epochs=epocas,validation_split=0.1)\n",
    "    \n",
    "    for i in range(n_t):\n",
    "        \n",
    "        sorteio_tipo  = np.random.randint(0,2)      #se 0 vai gerar linear, se 1 vai gerar não-linear\n",
    "        if sorteio_tipo == 0:\n",
    "            k = np.random.uniform(spread_min*gamma,spread_max*gamma)\n",
    "            training_inputs[i,:] = linear_simulation(max_time,dt,x0,k,gamma)\n",
    "            training_inputs[i,:] = training_inputs[i,:]/np.max(training_inputs[i,:]) #essa linha normaliza o traço, mas não sei se isso é necessário\n",
    "            training_results[i][0] = 1\n",
    "            training_results[i][1] = 0 \n",
    "        else:\n",
    "            k = np.random.uniform(spread_min*gamma,spread_max*gamma)\n",
    "            ka = np.random.uniform(0,k*0.5*1e14)\n",
    "            training_inputs[i,:] = non_linear_simulation(max_time,dt,x0,k,ka,gamma)\n",
    "            training_inputs[i,:] = training_inputs[i,:]/np.max(training_inputs[i,:]) #essa linha normaliza o traço, mas não sei se isso é necessário\n",
    "            training_results[i][0] = 0\n",
    "            training_results[i][1] = 1 \n",
    "            \n",
    "    prediction = net.predict(training_inputs)\n",
    "    for i in range(len(prediction)):\n",
    "        if prediction[i,0] > 0.5:\n",
    "            prediction[i,0] = 1\n",
    "            prediction[i,1] = 0\n",
    "        else:\n",
    "            prediction[i,0] = 0\n",
    "            prediction[i,1] = 1\n",
    "            \n",
    "    val = (prediction == training_results)\n",
    "    for i in range(len(val)):\n",
    "        if val[i,0] == 1:\n",
    "            val_per[on] += 1\n",
    "            \n",
    "    val_per[on] = val_per[on]/len(val)"
   ]
  },
  {
   "cell_type": "code",
   "execution_count": 23,
   "metadata": {},
   "outputs": [
    {
     "data": {
      "text/plain": [
       "[<matplotlib.lines.Line2D at 0x7fddd4820860>]"
      ]
     },
     "execution_count": 23,
     "metadata": {},
     "output_type": "execute_result"
    },
    {
     "data": {
      "image/png": "[encoded data removed]",
      "text/plain": [
       "<Figure size 432x288 with 1 Axes>"
      ]
     },
     "metadata": {
      "needs_background": "light"
     },
     "output_type": "display_data"
    }
   ],
   "source": [
    "plt.plot(val_per)"
   ]
  },
  {
   "cell_type": "code",
   "execution_count": 24,
   "metadata": {},
   "outputs": [
    {
     "data": {
      "text/plain": [
       "27000"
      ]
     },
     "execution_count": 24,
     "metadata": {},
     "output_type": "execute_result"
    }
   ],
   "source": [
    "30*900"
   ]
  },
  {
   "cell_type": "code",
   "execution_count": 25,
   "metadata": {},
   "outputs": [
    {
     "data": {
      "text/plain": [
       "135000"
      ]
     },
     "execution_count": 25,
     "metadata": {},
     "output_type": "execute_result"
    }
   ],
   "source": [
    "30*900*5"
   ]
  },
  {
   "cell_type": "code",
   "execution_count": null,
   "metadata": {},
   "outputs": [],
   "source": []
  }
 ],
 "metadata": {
  "kernelspec": {
   "display_name": "Python 3",
   "language": "python",
   "name": "python3"
  },
  "language_info": {
   "codemirror_mode": {
    "name": "ipython",
    "version": 3
   },
   "file_extension": ".py",
   "mimetype": "text/x-python",
   "name": "python",
   "nbconvert_exporter": "python",
   "pygments_lexer": "ipython3",
   "version": "3.8.3"
  }
 },
 "nbformat": 4,
 "nbformat_minor": 5
}
